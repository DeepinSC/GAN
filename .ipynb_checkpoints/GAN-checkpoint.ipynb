{
 "cells": [
  {
   "cell_type": "code",
   "execution_count": 1,
   "metadata": {
    "collapsed": true
   },
   "outputs": [],
   "source": [
    "import numpy as np\n",
    "import torch\n",
    "import torch.nn as nn\n",
    "import torch.nn.functional as F\n",
    "import torch.optim as optim\n",
    "from torch.autograd import Variable"
   ]
  },
  {
   "cell_type": "code",
   "execution_count": 2,
   "metadata": {
    "collapsed": true
   },
   "outputs": [],
   "source": [
    "# Data params\n",
    "data_mean = 4\n",
    "data_stddev = 1.25\n",
    "\n",
    "# Model params\n",
    "g_input_size = 1     # Random noise dimension coming into generator, per output vector\n",
    "g_hidden_size = 50   # Generator complexity\n",
    "g_output_size = 1    # size of generated output vector\n",
    "d_input_size = 100   # Minibatch size - cardinality of distributions\n",
    "d_hidden_size = 50   # Discriminator complexity\n",
    "d_output_size = 1    # Single dimension for 'real' vs. 'fake'\n",
    "minibatch_size = d_input_size\n",
    "\n",
    "d_learning_rate = 2e-4  # 2e-4\n",
    "g_learning_rate = 2e-4\n",
    "optim_betas = (0.9, 0.999)\n",
    "num_epochs = 30000\n",
    "print_interval = 1000\n",
    "d_steps = 1  # 'k' steps in the original GAN paper. Can put the discriminator on higher training freq than generator\n",
    "g_steps = 1\n"
   ]
  },
  {
   "cell_type": "code",
   "execution_count": 3,
   "metadata": {
    "collapsed": true
   },
   "outputs": [],
   "source": [
    "(name, preprocess, d_input_func) = (\"Data and variances\", lambda data: decorate_with_diffs(data, 2.0), lambda x: x * 2)"
   ]
  },
  {
   "cell_type": "code",
   "execution_count": 4,
   "metadata": {},
   "outputs": [
    {
     "name": "stdout",
     "output_type": "stream",
     "text": [
      "Using data [Data and variances]\n"
     ]
    }
   ],
   "source": [
    "print(\"Using data [%s]\" % (name))"
   ]
  },
  {
   "cell_type": "code",
   "execution_count": 5,
   "metadata": {
    "collapsed": true
   },
   "outputs": [],
   "source": [
    "# ##### DATA: Target data and generator input data\n",
    "\n",
    "def get_distribution_sampler(mu, sigma):\n",
    "    return lambda n: torch.Tensor(np.random.normal(mu, sigma, (1, n)))  # Gaussian\n",
    "\n",
    "def get_generator_input_sampler():\n",
    "    return lambda m, n: torch.rand(m, n) # Uniform-dist data into generator, _NOT_ Gaussian"
   ]
  },
  {
   "cell_type": "code",
   "execution_count": 6,
   "metadata": {
    "collapsed": true
   },
   "outputs": [],
   "source": [
    "class Generator(nn.Module):\n",
    "    def __init__(self, input_size, hidden_size, output_size):\n",
    "        super(Generator, self).__init__()\n",
    "        self.map1 = nn.Linear(input_size, hidden_size)\n",
    "        self.map2 = nn.Linear(hidden_size, hidden_size)\n",
    "        self.map3 = nn.Linear(hidden_size, output_size)\n",
    "\n",
    "    def forward(self, x):\n",
    "        x = F.elu(self.map1(x))\n",
    "        x = F.sigmoid(self.map2(x))\n",
    "        return self.map3(x)"
   ]
  },
  {
   "cell_type": "code",
   "execution_count": 7,
   "metadata": {
    "collapsed": true
   },
   "outputs": [],
   "source": [
    "class Discriminator(nn.Module):\n",
    "    def __init__(self, input_size, hidden_size, output_size):\n",
    "        super(Discriminator, self).__init__()\n",
    "        self.map1 = nn.Linear(input_size, hidden_size)\n",
    "        self.map2 = nn.Linear(hidden_size, hidden_size)\n",
    "        self.map3 = nn.Linear(hidden_size, output_size)\n",
    "\n",
    "    def forward(self, x):\n",
    "        x = F.elu(self.map1(x))\n",
    "        x = F.elu(self.map2(x))\n",
    "        return F.sigmoid(self.map3(x))"
   ]
  },
  {
   "cell_type": "code",
   "execution_count": 8,
   "metadata": {
    "collapsed": true
   },
   "outputs": [],
   "source": [
    "def extract(v):\n",
    "    return v.data.storage().tolist()\n",
    "\n",
    "def stats(d):\n",
    "    return [np.mean(d), np.std(d)]\n",
    "\n",
    "def decorate_with_diffs(data, exponent):\n",
    "    mean = torch.mean(data.data, 1)\n",
    "    mean_broadcast = torch.mul(torch.ones(data.size()), mean.tolist()[0][0])\n",
    "    diffs = torch.pow(data - Variable(mean_broadcast), exponent)\n",
    "    return torch.cat([data, diffs], 1)"
   ]
  },
  {
   "cell_type": "code",
   "execution_count": 9,
   "metadata": {
    "collapsed": true
   },
   "outputs": [],
   "source": [
    "d_sampler = get_distribution_sampler(data_mean, data_stddev)\n",
    "gi_sampler = get_generator_input_sampler()\n",
    "G = Generator(input_size=g_input_size, hidden_size=g_hidden_size, output_size=g_output_size)\n",
    "D = Discriminator(input_size=d_input_func(d_input_size), hidden_size=d_hidden_size, output_size=d_output_size)\n",
    "criterion = nn.BCELoss()  # Binary cross entropy: http://pytorch.org/docs/nn.html#bceloss\n",
    "d_optimizer = optim.Adam(D.parameters(), lr=d_learning_rate, betas=optim_betas)\n",
    "g_optimizer = optim.Adam(G.parameters(), lr=g_learning_rate, betas=optim_betas)"
   ]
  },
  {
   "cell_type": "code",
   "execution_count": 10,
   "metadata": {},
   "outputs": [
    {
     "name": "stdout",
     "output_type": "stream",
     "text": [
      "0: D: 0.8617987632751465/0.6488441228866577 G: 0.7331540584564209 (Real: [3.8818778896331789, 1.2652709240345721], Fake: [0.4628725755214691, 0.019194713485133654]) \n",
      "\n",
      "1000: D: 1.018180012702942/0.459290087223053 G: 1.6900148391723633 (Real: [3.9073077440261841, 1.2444563960231627], Fake: [3.9489233446121217, 1.0989051037667301]) \n",
      "\n",
      "2000: D: 0.49983686208724976/0.7064396142959595 G: 1.1584113836288452 (Real: [3.7999051105976105, 1.3471785211828362], Fake: [4.1447155022621152, 1.3139235757557133]) \n",
      "\n",
      "3000: D: 0.8638929724693298/0.8041131496429443 G: 1.0135085582733154 (Real: [4.1069691336154941, 1.1533390401620918], Fake: [5.3599947810173036, 0.96636581263637489]) \n",
      "\n",
      "4000: D: 0.742542028427124/0.5821029543876648 G: 0.5150909423828125 (Real: [4.0876375795900826, 1.2086911673502145], Fake: [4.5505266666412352, 1.0975000436839011]) \n",
      "\n",
      "5000: D: 0.911525309085846/0.6573142409324646 G: 0.5821661353111267 (Real: [4.2434351217746737, 1.2959958162436445], Fake: [3.7045440834760668, 1.496951989963655]) \n",
      "\n",
      "6000: D: 0.5357472896575928/0.5469384789466858 G: 0.6567177176475525 (Real: [3.8673365765810015, 1.3772633386889788], Fake: [3.6421630388498305, 1.3624071075284463]) \n",
      "\n",
      "7000: D: 0.8190335631370544/0.7395139336585999 G: 0.7191887497901917 (Real: [3.9085422414541244, 1.2025136872289397], Fake: [4.1372720885276797, 1.1750978190089358]) \n",
      "\n",
      "8000: D: 0.6620995402336121/0.6364337801933289 G: 0.8240295648574829 (Real: [4.1999844026565549, 1.2533121910956633], Fake: [3.7429730331897737, 1.2587079339605589]) \n",
      "\n",
      "9000: D: 0.557801365852356/0.6369832158088684 G: 0.46259939670562744 (Real: [3.9352325608581307, 1.372039329359326], Fake: [3.9652130722999575, 1.2568392144817886]) \n",
      "\n",
      "10000: D: 1.183518886566162/0.7417053580284119 G: 0.7356919050216675 (Real: [3.928783044219017, 1.3374100094958687], Fake: [4.4582093667984006, 1.1384846588086284]) \n",
      "\n",
      "11000: D: 0.49989935755729675/0.8070717453956604 G: 0.5430038571357727 (Real: [4.0032151240110396, 1.0288985551559806], Fake: [4.2532955676317217, 1.2541753531057402]) \n",
      "\n",
      "12000: D: 0.49879246950149536/0.851946234703064 G: 0.3316916525363922 (Real: [4.1492629384994508, 1.2685295675457626], Fake: [3.8640990740060808, 1.3307126921275405]) \n",
      "\n",
      "13000: D: 0.57302325963974/0.9822373986244202 G: 0.690586268901825 (Real: [3.5829986711032689, 1.2649231591705246], Fake: [3.7586061364412306, 1.3446105678672609]) \n",
      "\n",
      "14000: D: 1.1382718086242676/0.49590715765953064 G: 1.2961513996124268 (Real: [3.9491793072223662, 1.2074180508224293], Fake: [3.9753138864040376, 1.3095669001749763]) \n",
      "\n",
      "15000: D: 0.2930414378643036/0.2578654885292053 G: 1.7256914377212524 (Real: [3.7421075147390366, 1.1837880792162629], Fake: [4.3192476987838742, 1.0462393366003955]) \n",
      "\n",
      "16000: D: 0.6266208291053772/0.5775598883628845 G: 1.121759057044983 (Real: [4.2061469560861591, 1.1925732446493889], Fake: [3.956585037112236, 1.1411935491390588]) \n",
      "\n",
      "17000: D: 0.1773514747619629/0.34980764985084534 G: 1.8908812999725342 (Real: [3.7792105838656425, 1.2347839410113735], Fake: [3.8660015058517456, 1.2794613381548885]) \n",
      "\n",
      "18000: D: 0.09720467776060104/0.5348098874092102 G: 1.0806118249893188 (Real: [3.8947294801473618, 1.2545151481382726], Fake: [4.1670416903495786, 1.3176542708295296]) \n",
      "\n",
      "19000: D: 0.32600903511047363/0.33237600326538086 G: 1.5796300172805786 (Real: [3.9929033237695695, 1.2747074220247898], Fake: [4.3468823242187504, 1.0842324470139657]) \n",
      "\n",
      "20000: D: 0.07217244058847427/0.40367192029953003 G: 2.0555920600891113 (Real: [3.8266578677203507, 1.2628337084040231], Fake: [4.1226561003923416, 1.1097727218514555]) \n",
      "\n",
      "21000: D: 0.04303361847996712/1.1242048740386963 G: 0.7447632551193237 (Real: [3.9451904362440109, 1.2369279696977167], Fake: [4.1948893678188321, 1.2607928779923143]) \n",
      "\n",
      "22000: D: 0.2041083574295044/0.11160291731357574 G: 0.658322811126709 (Real: [4.3511273521184926, 1.2071143946584544], Fake: [4.1063201284408573, 1.3178164927900813]) \n",
      "\n",
      "23000: D: 0.4823746979236603/0.263748437166214 G: 3.565333127975464 (Real: [3.9559865224361421, 1.2850181367558973], Fake: [4.6364568698406217, 1.3219479156881928]) \n",
      "\n",
      "24000: D: 0.21446362137794495/0.0009430933278053999 G: 5.940218925476074 (Real: [4.0926914644241332, 1.1972141818174067], Fake: [6.8655137348175046, 1.7152610157239716]) \n",
      "\n",
      "25000: D: 0.0008324868394993246/1.465619516238803e-05 G: 13.406350135803223 (Real: [3.9653061091899873, 1.2467129149953984], Fake: [14.746665744781494, 1.3227480717380766]) \n",
      "\n",
      "26000: D: 8.881486428435892e-05/3.5562191413873734e-08 G: 17.558279037475586 (Real: [3.8822270643711092, 1.4677483919396495], Fake: [21.961993560791015, 1.4259200377689178]) \n",
      "\n",
      "27000: D: 9.059946023626253e-06/1.540179095371741e-11 G: 22.626741409301758 (Real: [3.9383884596824648, 1.2437867796953628], Fake: [29.368796081542968, 1.6549050303533732]) \n",
      "\n",
      "28000: D: 0.0001286947081098333/8.851142041521598e-12 G: 26.963897705078125 (Real: [3.9218063783645629, 1.2793672415794761], Fake: [35.364587554931639, 1.8283718697632794]) \n",
      "\n",
      "29000: D: 1.5497209915338317e-06/3.708144902248023e-13 G: 24.418628692626953 (Real: [3.9646162259578706, 1.239234017965235], Fake: [40.342476081848147, 1.9420988340178724]) \n",
      "\n"
     ]
    }
   ],
   "source": [
    "for epoch in range(num_epochs):\n",
    "    for d_index in range(d_steps):\n",
    "        # 1. Train D on real+fake\n",
    "        D.zero_grad()\n",
    "\n",
    "        #  1A: Train D on real\n",
    "        d_real_data = Variable(d_sampler(d_input_size))\n",
    "        d_real_decision = D(preprocess(d_real_data))\n",
    "        d_real_error = criterion(d_real_decision, Variable(torch.ones(1)))  # ones = true\n",
    "        d_real_error.backward() # compute/store gradients, but don't change params\n",
    "\n",
    "        #  1B: Train D on fake\n",
    "        d_gen_input = Variable(gi_sampler(minibatch_size, g_input_size))\n",
    "        d_fake_data = G(d_gen_input).detach()  # detach to avoid training G on these labels\n",
    "        d_fake_decision = D(preprocess(d_fake_data.t()))\n",
    "        d_fake_error = criterion(d_fake_decision, Variable(torch.zeros(1)))  # zeros = fake\n",
    "        d_fake_error.backward()\n",
    "        d_optimizer.step()     # Only optimizes D's parameters; changes based on stored gradients from backward()\n",
    "\n",
    "    for g_index in range(g_steps):\n",
    "        # 2. Train G on D's response (but DO NOT train D on these labels)\n",
    "        G.zero_grad()\n",
    "\n",
    "        gen_input = Variable(gi_sampler(minibatch_size, g_input_size))\n",
    "        g_fake_data = G(gen_input)\n",
    "        dg_fake_decision = D(preprocess(g_fake_data.t()))\n",
    "        g_error = criterion(dg_fake_decision, Variable(torch.ones(1)))  # we want to fool, so pretend it's all genuine\n",
    "\n",
    "        g_error.backward()\n",
    "        g_optimizer.step()  # Only optimizes G's parameters\n",
    "\n",
    "    if epoch % print_interval == 0:\n",
    "        print(\"%s: D: %s/%s G: %s (Real: %s, Fake: %s) \\n\" % (epoch,\n",
    "                                                            extract(d_real_error)[0],\n",
    "                                                            extract(d_fake_error)[0],\n",
    "                                                            extract(g_error)[0],\n",
    "                                                            stats(extract(d_real_data)),\n",
    "stats(extract(d_fake_data))))"
   ]
  },
  {
   "cell_type": "code",
   "execution_count": null,
   "metadata": {
    "collapsed": true
   },
   "outputs": [],
   "source": []
  }
 ],
 "metadata": {
  "kernelspec": {
   "display_name": "Python 3",
   "language": "python",
   "name": "python3"
  },
  "language_info": {
   "codemirror_mode": {
    "name": "ipython",
    "version": 3
   },
   "file_extension": ".py",
   "mimetype": "text/x-python",
   "name": "python",
   "nbconvert_exporter": "python",
   "pygments_lexer": "ipython3",
   "version": "3.6.1"
  }
 },
 "nbformat": 4,
 "nbformat_minor": 2
}
